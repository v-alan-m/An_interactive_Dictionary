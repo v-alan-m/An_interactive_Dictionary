{
 "cells": [
  {
   "cell_type": "markdown",
   "metadata": {},
   "source": [
    "# Interactvie Dictionary"
   ]
  },
  {
   "cell_type": "markdown",
   "metadata": {},
   "source": [
    "## Load JSON file into a python dictionary"
   ]
  },
  {
   "cell_type": "code",
   "execution_count": null,
   "metadata": {},
   "outputs": [],
   "source": [
    "import json\n",
    "data = json.load(open(\"data.json\",'r'))\n",
    "type(data)"
   ]
  },
  {
   "cell_type": "code",
   "execution_count": null,
   "metadata": {},
   "outputs": [],
   "source": [
    "import json\n",
    "data = json.load(open(\"data.json\"))\n",
    "\n",
    "def translate(word):\n",
    "    return data[word]\n",
    "\n",
    "word = input(\"Enter word: \")\n",
    "\n",
    "print(translate(word))"
   ]
  },
  {
   "cell_type": "code",
   "execution_count": null,
   "metadata": {},
   "outputs": [],
   "source": [
    "# Information not in the dictionary set\n",
    "import json\n",
    "data = json.load(open(\"data.json\"))\n",
    "\n",
    "def translate(word):\n",
    "    return data[word]\n",
    "\n",
    "word = input(\"Enter word: \")\n",
    "\n",
    "print(translate(word))"
   ]
  },
  {
   "cell_type": "code",
   "execution_count": null,
   "metadata": {},
   "outputs": [],
   "source": [
    "# Check if there is a value for the given key\n",
    "'rain' in data"
   ]
  },
  {
   "cell_type": "code",
   "execution_count": null,
   "metadata": {},
   "outputs": [],
   "source": [
    "'sgege' in data"
   ]
  },
  {
   "cell_type": "code",
   "execution_count": null,
   "metadata": {},
   "outputs": [],
   "source": [
    "import json\n",
    "data = json.load(open(\"data.json\"))\n",
    "\n",
    "def translate(w):\n",
    "    if w in data:\n",
    "        return data[w]\n",
    "    else:\n",
    "        return \"This word does not exist, please enter in another word\"\n",
    "\n",
    "word = input(\"Enter word: \")\n",
    "    \n",
    "print(translate(word))"
   ]
  },
  {
   "cell_type": "code",
   "execution_count": null,
   "metadata": {},
   "outputs": [],
   "source": [
    "# Account for capitalization\n",
    "import json\n",
    "data = json.load(open(\"data.json\"))\n",
    "\n",
    "def translate(w):\n",
    "    w = w.lower()\n",
    "    if w in data:\n",
    "        return data[w]\n",
    "    else:\n",
    "        return \"This word does not exist, please enter in another word\"\n",
    "\n",
    "word = input(\"Enter word: \")\n",
    "\n",
    "print(translate(word))"
   ]
  },
  {
   "cell_type": "code",
   "execution_count": null,
   "metadata": {},
   "outputs": [],
   "source": [
    "'''\n",
    "Some entered searches may have errors. \n",
    "So search the dictionary for any possible key values within the input-string\n",
    "'''\n",
    "import json\n",
    "from difflib import get_close_matches\n",
    "\n",
    "# Load the JSON file into a dictionary\n",
    "data = json.load(open(\"data.json\"))\n",
    "\n",
    "# Find the corresponding value to the key that is inserted into stdin\n",
    "def translate(w):\n",
    "# Make stdin entries lower case before preforming the dictionary search\n",
    "    w = w.lower()\n",
    "# If the key is present the return the corresponding value\n",
    "    if w in data:\n",
    "        return data[w]\n",
    "# Return the closest word to the stdin entry if stdin entry is not a present key\n",
    "    elif len(get_close_matches(w, data.keys())) > 0:\n",
    "        return \"Did you mean %s?\" % get_close_matches(w, data.keys())[0] \n",
    "# If entry is unrecognisable print a statement stating so and ask for a new entry\n",
    "    else:\n",
    "        return \"This word does not exist, please enter in another word\"\n",
    "\n",
    "# Ask the user to enter in a word to search\n",
    "word = input(\"Enter word: \")\n",
    "\n",
    "# Print out the value of the key entered in by the user\n",
    "print(translate(word))"
   ]
  },
  {
   "cell_type": "code",
   "execution_count": null,
   "metadata": {},
   "outputs": [],
   "source": [
    "'''\n",
    "If the get_close_maches returns the desired search word, \n",
    "then ask the user to confirm with Y and use this word to search,\n",
    "if not the user can enter N to try another word\n",
    "'''\n",
    "import json\n",
    "from difflib import get_close_matches\n",
    "\n",
    "# Load the JSON file into a dictionary\n",
    "data = json.load(open(\"data.json\"))\n",
    "\n",
    "# Find the corresponding value to the key that is inserted into stdin\n",
    "def translate(w):\n",
    "# Make stdin entries lower case before preforming the dictionary search\n",
    "    w = w.lower()\n",
    "# If the key is present the return the corresponding value\n",
    "    if w in data:\n",
    "        return data[w]\n",
    "# Return the closest word to the stdin entry if stdin entry is not a present key\n",
    "    elif len(get_close_matches(w, data.keys())) > 0:\n",
    "        check =  input(\"Did you mean %s? Enter Y if yes, or N if no: \" % get_close_matches(w, data.keys())[0])\n",
    "        if check == \"Y\":\n",
    "            return data[get_close_matches(w, data.keys())[0]]\n",
    "        elif check == \"N\":\n",
    "            return \"This word does not exist, please enter in another word\"\n",
    "        else:\n",
    "            print(\"Please enter in capital Y or N\")\n",
    "            return translate(w)\n",
    "# If entry is unrecognisable print a statement stating so and ask for a new entry\n",
    "    else:\n",
    "        return \"This word does not exist, please enter in another word\"\n",
    "\n",
    "# Ask the user to enter in a word to search\n",
    "word = input(\"Enter word: \")\n",
    "\n",
    "# Print out the value of the key entered in by the user\n",
    "print(translate(word))"
   ]
  },
  {
   "cell_type": "code",
   "execution_count": 4,
   "metadata": {},
   "outputs": [
    {
     "name": "stdout",
     "output_type": "stream",
     "text": [
      "Enter word: rainm\n",
      "Did you mean rain? Enter Y if yes, or N if no: Y\n",
      "Precipitation in the form of liquid water drops with diameters greater than 0.5 millimetres.\n",
      "To fall from the clouds in drops of water.\n"
     ]
    }
   ],
   "source": [
    "# Remove the square[] brackets around the returned-value\n",
    "'''\n",
    "If the get_close_maches returns the desired search word, \n",
    "then ask the user to confirm with Y and use this word to search,\n",
    "if not the user can enter N to try another word\n",
    "'''\n",
    "import json\n",
    "from difflib import get_close_matches\n",
    "\n",
    "# Load the JSON file into a dictionary\n",
    "data = json.load(open(\"data.json\"))\n",
    "\n",
    "# Ask the user to enter in a word to search\n",
    "def search_word():\n",
    "    word = input(\"Enter word: \")\n",
    "    return word\n",
    "    \n",
    "# Find the corresponding value to the key that is inserted into stdin\n",
    "def translate(w):\n",
    "# Make stdin entries lower case before preforming the dictionary search\n",
    "    w = w.lower()\n",
    "# If the key is present the return the corresponding value\n",
    "    if w in data:\n",
    "        return data[w]\n",
    "# Return the closest word to the stdin entry if stdin entry is not a present key\n",
    "    elif len(get_close_matches(w, data.keys())) > 0:\n",
    "        check =  input(\"Did you mean %s? Enter Y if yes, or N if no: \" % get_close_matches(w, data.keys())[0])\n",
    "        if check == \"Y\":\n",
    "            return data[get_close_matches(w, data.keys())[0]]\n",
    "        elif check == \"N\":\n",
    "            print(\"This word does not exist, please enter in another word\")\n",
    "        else:\n",
    "            print(\"Please enter in Y or N\")\n",
    "            \n",
    "# If entry is unrecognisable print a statement stating so and ask for a new entry\n",
    "    else:\n",
    "        return \"This word does not exist, please enter in another word\"\n",
    "    \n",
    "def definition():    \n",
    "    output = translate(search_word())\n",
    "    if type(output) == list:\n",
    "    # If output_value is a string then iterate through the list and print out the items\n",
    "        for item in output:\n",
    "            print(item)\n",
    "\n",
    "definition()"
   ]
  },
  {
   "cell_type": "code",
   "execution_count": null,
   "metadata": {},
   "outputs": [],
   "source": []
  }
 ],
 "metadata": {
  "kernelspec": {
   "display_name": "Python 3",
   "language": "python",
   "name": "python3"
  },
  "language_info": {
   "codemirror_mode": {
    "name": "ipython",
    "version": 3
   },
   "file_extension": ".py",
   "mimetype": "text/x-python",
   "name": "python",
   "nbconvert_exporter": "python",
   "pygments_lexer": "ipython3",
   "version": "3.7.4"
  }
 },
 "nbformat": 4,
 "nbformat_minor": 2
}
